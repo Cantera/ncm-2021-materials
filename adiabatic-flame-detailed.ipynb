{
 "cells": [
  {
   "cell_type": "markdown",
   "metadata": {},
   "source": [
    "# Adiabatic flame temperature notebook.\n",
    "\n",
    "## Part 1 -- Hand calculation"
   ]
  },
  {
   "cell_type": "code",
   "execution_count": 55,
   "metadata": {},
   "outputs": [],
   "source": [
    "import numpy as np\n",
    "from scipy.interpolate import interp1d"
   ]
  },
  {
   "cell_type": "code",
   "execution_count": 58,
   "metadata": {},
   "outputs": [],
   "source": [
    "ch4_data = np.loadtxt('data/ch4_janaf.txt',dtype='float', skiprows=3)\n",
    "o2_data = np.loadtxt('data/o2_janaf.txt',dtype='float', skiprows=3)\n",
    "co2_data = np.loadtxt('data/co2_janaf.txt',dtype='float', skiprows=3)\n",
    "h2o_data = np.loadtxt('data/h2o_janaf.txt',dtype='float', skiprows=3)\n",
    "\n",
    "\n",
    "ch4_h_f = np.interp(298.15, ch4_data[:,0], ch4_data[:,5])\n",
    "o2_h_f = np.interp(298.15, o2_data[:,0], o2_data[:,5])\n",
    "co2_h_f = np.interp(298.15, co2_data[:,0], co2_data[:,5])\n",
    "h2o_h_f = np.interp(298.15, h2o_data[:,0], h2o_data[:,5])\n",
    "\n",
    "co2_dh = interp1d(co2_data[:,0], co2_data[:,4])\n",
    "h2o_dh = interp1d(h2o_data[:,0], h2o_data[:,4])\n"
   ]
  },
  {
   "cell_type": "code",
   "execution_count": 59,
   "metadata": {},
   "outputs": [
    {
     "name": "stdout",
     "output_type": "stream",
     "text": [
      "5209.587168857575\n"
     ]
    }
   ],
   "source": [
    "delta_h_f_o = 2*h2o_h_f + co2_h_f - ch4_h_f - 2*o2_h_f\n",
    "\n",
    "temps = np.linspace(300,6000,100)\n",
    "h_comb = np.zeros_like(temps)\n",
    "\n",
    "for j, T in enumerate(temps):\n",
    "    h_comb[j] = 2*h2o_dh(T) + co2_dh(T)\n",
    "\n",
    "T_adiabatic = np.interp(-delta_h_f_o, h_comb, temps)\n",
    "print(T_adiabatic)\n"
   ]
  },
  {
   "cell_type": "code",
   "execution_count": null,
   "metadata": {},
   "outputs": [],
   "source": []
  }
 ],
 "metadata": {
  "celltoolbar": "Tags",
  "kernelspec": {
   "display_name": "Python 3",
   "language": "python",
   "name": "python3"
  },
  "language_info": {
   "codemirror_mode": {
    "name": "ipython",
    "version": 3
   },
   "file_extension": ".py",
   "mimetype": "text/x-python",
   "name": "python",
   "nbconvert_exporter": "python",
   "pygments_lexer": "ipython3",
   "version": "3.6.13"
  }
 },
 "nbformat": 4,
 "nbformat_minor": 2
}
